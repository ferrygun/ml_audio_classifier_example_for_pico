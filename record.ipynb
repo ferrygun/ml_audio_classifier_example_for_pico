{
  "nbformat": 4,
  "nbformat_minor": 0,
  "metadata": {
    "colab": {
      "provenance": [],
      "authorship_tag": "ABX9TyN+IpJkRMiowmAL4CDDHPmH",
      "include_colab_link": true
    },
    "kernelspec": {
      "name": "python3",
      "display_name": "Python 3"
    },
    "language_info": {
      "name": "python"
    },
    "accelerator": "GPU",
    "gpuClass": "standard"
  },
  "cells": [
    {
      "cell_type": "markdown",
      "metadata": {
        "id": "view-in-github",
        "colab_type": "text"
      },
      "source": [
        "<a href=\"https://colab.research.google.com/github/ferrygun/ml_audio_classifier_example_for_pico/blob/main/record.ipynb\" target=\"_parent\"><img src=\"https://colab.research.google.com/assets/colab-badge.svg\" alt=\"Open In Colab\"/></a>"
      ]
    },
    {
      "cell_type": "code",
      "source": [
        "!pip install librosa matplotlib pandas tensorflow==2.7.1 tensorflow-io==0.23.1 tensorflow-model-optimization"
      ],
      "metadata": {
        "colab": {
          "base_uri": "https://localhost:8080/"
        },
        "id": "xtDn7mZRGqze",
        "outputId": "6aad57fa-3c7e-4e68-99d5-566faa7a7114"
      },
      "execution_count": null,
      "outputs": [
        {
          "output_type": "stream",
          "name": "stdout",
          "text": [
            "Looking in indexes: https://pypi.org/simple, https://us-python.pkg.dev/colab-wheels/public/simple/\n",
            "Requirement already satisfied: librosa in /usr/local/lib/python3.8/dist-packages (0.8.1)\n",
            "Requirement already satisfied: matplotlib in /usr/local/lib/python3.8/dist-packages (3.2.2)\n",
            "Requirement already satisfied: pandas in /usr/local/lib/python3.8/dist-packages (1.3.5)\n",
            "Collecting tensorflow==2.7.1\n",
            "  Downloading tensorflow-2.7.1-cp38-cp38-manylinux2010_x86_64.whl (495.1 MB)\n",
            "\u001b[2K     \u001b[90m━━━━━━━━━━━━━━━━━━━━━━━━━━━━━━━━━━━━━━━\u001b[0m \u001b[32m495.1/495.1 MB\u001b[0m \u001b[31m3.0 MB/s\u001b[0m eta \u001b[36m0:00:00\u001b[0m\n",
            "\u001b[?25hCollecting tensorflow-io==0.23.1\n",
            "  Downloading tensorflow_io-0.23.1-cp38-cp38-manylinux_2_12_x86_64.manylinux2010_x86_64.whl (23.1 MB)\n",
            "\u001b[2K     \u001b[90m━━━━━━━━━━━━━━━━━━━━━━━━━━━━━━━━━━━━━━━━\u001b[0m \u001b[32m23.1/23.1 MB\u001b[0m \u001b[31m29.3 MB/s\u001b[0m eta \u001b[36m0:00:00\u001b[0m\n",
            "\u001b[?25hCollecting tensorflow-model-optimization\n",
            "  Downloading tensorflow_model_optimization-0.7.3-py2.py3-none-any.whl (238 kB)\n",
            "\u001b[2K     \u001b[90m━━━━━━━━━━━━━━━━━━━━━━━━━━━━━━━━━━━━━━\u001b[0m \u001b[32m238.9/238.9 KB\u001b[0m \u001b[31m17.0 MB/s\u001b[0m eta \u001b[36m0:00:00\u001b[0m\n",
            "\u001b[?25hRequirement already satisfied: grpcio<2.0,>=1.24.3 in /usr/local/lib/python3.8/dist-packages (from tensorflow==2.7.1) (1.51.1)\n",
            "Requirement already satisfied: tensorboard~=2.6 in /usr/local/lib/python3.8/dist-packages (from tensorflow==2.7.1) (2.11.2)\n",
            "Requirement already satisfied: astunparse>=1.6.0 in /usr/local/lib/python3.8/dist-packages (from tensorflow==2.7.1) (1.6.3)\n",
            "Requirement already satisfied: libclang>=9.0.1 in /usr/local/lib/python3.8/dist-packages (from tensorflow==2.7.1) (15.0.6.1)\n",
            "Requirement already satisfied: wrapt>=1.11.0 in /usr/local/lib/python3.8/dist-packages (from tensorflow==2.7.1) (1.14.1)\n",
            "Collecting flatbuffers<3.0,>=1.12\n",
            "  Downloading flatbuffers-2.0.7-py2.py3-none-any.whl (26 kB)\n",
            "Requirement already satisfied: google-pasta>=0.1.1 in /usr/local/lib/python3.8/dist-packages (from tensorflow==2.7.1) (0.2.0)\n",
            "Requirement already satisfied: numpy>=1.14.5 in /usr/local/lib/python3.8/dist-packages (from tensorflow==2.7.1) (1.21.6)\n",
            "Requirement already satisfied: gast<0.5.0,>=0.2.1 in /usr/local/lib/python3.8/dist-packages (from tensorflow==2.7.1) (0.4.0)\n",
            "Collecting keras<2.8,>=2.7.0rc0\n",
            "  Downloading keras-2.7.0-py2.py3-none-any.whl (1.3 MB)\n",
            "\u001b[2K     \u001b[90m━━━━━━━━━━━━━━━━━━━━━━━━━━━━━━━━━━━━━━━━\u001b[0m \u001b[32m1.3/1.3 MB\u001b[0m \u001b[31m30.0 MB/s\u001b[0m eta \u001b[36m0:00:00\u001b[0m\n",
            "\u001b[?25hRequirement already satisfied: h5py>=2.9.0 in /usr/local/lib/python3.8/dist-packages (from tensorflow==2.7.1) (3.1.0)\n",
            "Collecting keras-preprocessing>=1.1.1\n",
            "  Downloading Keras_Preprocessing-1.1.2-py2.py3-none-any.whl (42 kB)\n",
            "\u001b[2K     \u001b[90m━━━━━━━━━━━━━━━━━━━━━━━━━━━━━━━━━━━━━━━━\u001b[0m \u001b[32m42.6/42.6 KB\u001b[0m \u001b[31m2.7 MB/s\u001b[0m eta \u001b[36m0:00:00\u001b[0m\n",
            "\u001b[?25hRequirement already satisfied: protobuf>=3.9.2 in /usr/local/lib/python3.8/dist-packages (from tensorflow==2.7.1) (3.19.6)\n",
            "Requirement already satisfied: wheel<1.0,>=0.32.0 in /usr/local/lib/python3.8/dist-packages (from tensorflow==2.7.1) (0.38.4)\n",
            "Requirement already satisfied: tensorflow-io-gcs-filesystem>=0.21.0 in /usr/local/lib/python3.8/dist-packages (from tensorflow==2.7.1) (0.30.0)\n",
            "Requirement already satisfied: typing-extensions>=3.6.6 in /usr/local/lib/python3.8/dist-packages (from tensorflow==2.7.1) (4.5.0)\n",
            "Requirement already satisfied: six>=1.12.0 in /usr/local/lib/python3.8/dist-packages (from tensorflow==2.7.1) (1.15.0)\n",
            "Requirement already satisfied: absl-py>=0.4.0 in /usr/local/lib/python3.8/dist-packages (from tensorflow==2.7.1) (1.4.0)\n",
            "Requirement already satisfied: opt-einsum>=2.3.2 in /usr/local/lib/python3.8/dist-packages (from tensorflow==2.7.1) (3.3.0)\n",
            "Collecting tensorflow-estimator<2.8,~=2.7.0rc0\n",
            "  Downloading tensorflow_estimator-2.7.0-py2.py3-none-any.whl (463 kB)\n",
            "\u001b[2K     \u001b[90m━━━━━━━━━━━━━━━━━━━━━━━━━━━━━━━━━━━━━━\u001b[0m \u001b[32m463.1/463.1 KB\u001b[0m \u001b[31m23.8 MB/s\u001b[0m eta \u001b[36m0:00:00\u001b[0m\n",
            "\u001b[?25hRequirement already satisfied: termcolor>=1.1.0 in /usr/local/lib/python3.8/dist-packages (from tensorflow==2.7.1) (2.2.0)\n",
            "Collecting tensorflow-io-gcs-filesystem>=0.21.0\n",
            "  Downloading tensorflow_io_gcs_filesystem-0.23.1-cp38-cp38-manylinux_2_12_x86_64.manylinux2010_x86_64.whl (2.1 MB)\n",
            "\u001b[2K     \u001b[90m━━━━━━━━━━━━━━━━━━━━━━━━━━━━━━━━━━━━━━━━\u001b[0m \u001b[32m2.1/2.1 MB\u001b[0m \u001b[31m26.7 MB/s\u001b[0m eta \u001b[36m0:00:00\u001b[0m\n",
            "\u001b[?25hRequirement already satisfied: audioread>=2.0.0 in /usr/local/lib/python3.8/dist-packages (from librosa) (3.0.0)\n",
            "Requirement already satisfied: scipy>=1.0.0 in /usr/local/lib/python3.8/dist-packages (from librosa) (1.7.3)\n",
            "Requirement already satisfied: numba>=0.43.0 in /usr/local/lib/python3.8/dist-packages (from librosa) (0.56.4)\n",
            "Requirement already satisfied: packaging>=20.0 in /usr/local/lib/python3.8/dist-packages (from librosa) (23.0)\n",
            "Requirement already satisfied: pooch>=1.0 in /usr/local/lib/python3.8/dist-packages (from librosa) (1.6.0)\n",
            "Requirement already satisfied: resampy>=0.2.2 in /usr/local/lib/python3.8/dist-packages (from librosa) (0.4.2)\n",
            "Requirement already satisfied: decorator>=3.0.0 in /usr/local/lib/python3.8/dist-packages (from librosa) (4.4.2)\n",
            "Requirement already satisfied: joblib>=0.14 in /usr/local/lib/python3.8/dist-packages (from librosa) (1.2.0)\n",
            "Requirement already satisfied: scikit-learn!=0.19.0,>=0.14.0 in /usr/local/lib/python3.8/dist-packages (from librosa) (1.0.2)\n",
            "Requirement already satisfied: soundfile>=0.10.2 in /usr/local/lib/python3.8/dist-packages (from librosa) (0.12.1)\n",
            "Requirement already satisfied: kiwisolver>=1.0.1 in /usr/local/lib/python3.8/dist-packages (from matplotlib) (1.4.4)\n",
            "Requirement already satisfied: pyparsing!=2.0.4,!=2.1.2,!=2.1.6,>=2.0.1 in /usr/local/lib/python3.8/dist-packages (from matplotlib) (3.0.9)\n",
            "Requirement already satisfied: cycler>=0.10 in /usr/local/lib/python3.8/dist-packages (from matplotlib) (0.11.0)\n",
            "Requirement already satisfied: python-dateutil>=2.1 in /usr/local/lib/python3.8/dist-packages (from matplotlib) (2.8.2)\n",
            "Requirement already satisfied: pytz>=2017.3 in /usr/local/lib/python3.8/dist-packages (from pandas) (2022.7.1)\n",
            "Requirement already satisfied: dm-tree~=0.1.1 in /usr/local/lib/python3.8/dist-packages (from tensorflow-model-optimization) (0.1.8)\n",
            "Requirement already satisfied: setuptools in /usr/local/lib/python3.8/dist-packages (from numba>=0.43.0->librosa) (57.4.0)\n",
            "Requirement already satisfied: llvmlite<0.40,>=0.39.0dev0 in /usr/local/lib/python3.8/dist-packages (from numba>=0.43.0->librosa) (0.39.1)\n",
            "Requirement already satisfied: importlib-metadata in /usr/local/lib/python3.8/dist-packages (from numba>=0.43.0->librosa) (6.0.0)\n",
            "Requirement already satisfied: appdirs>=1.3.0 in /usr/local/lib/python3.8/dist-packages (from pooch>=1.0->librosa) (1.4.4)\n",
            "Requirement already satisfied: requests>=2.19.0 in /usr/local/lib/python3.8/dist-packages (from pooch>=1.0->librosa) (2.25.1)\n",
            "Requirement already satisfied: threadpoolctl>=2.0.0 in /usr/local/lib/python3.8/dist-packages (from scikit-learn!=0.19.0,>=0.14.0->librosa) (3.1.0)\n",
            "Requirement already satisfied: cffi>=1.0 in /usr/local/lib/python3.8/dist-packages (from soundfile>=0.10.2->librosa) (1.15.1)\n",
            "Requirement already satisfied: werkzeug>=1.0.1 in /usr/local/lib/python3.8/dist-packages (from tensorboard~=2.6->tensorflow==2.7.1) (1.0.1)\n",
            "Requirement already satisfied: google-auth<3,>=1.6.3 in /usr/local/lib/python3.8/dist-packages (from tensorboard~=2.6->tensorflow==2.7.1) (2.16.0)\n",
            "Requirement already satisfied: tensorboard-plugin-wit>=1.6.0 in /usr/local/lib/python3.8/dist-packages (from tensorboard~=2.6->tensorflow==2.7.1) (1.8.1)\n",
            "Requirement already satisfied: markdown>=2.6.8 in /usr/local/lib/python3.8/dist-packages (from tensorboard~=2.6->tensorflow==2.7.1) (3.4.1)\n",
            "Requirement already satisfied: tensorboard-data-server<0.7.0,>=0.6.0 in /usr/local/lib/python3.8/dist-packages (from tensorboard~=2.6->tensorflow==2.7.1) (0.6.1)\n",
            "Requirement already satisfied: google-auth-oauthlib<0.5,>=0.4.1 in /usr/local/lib/python3.8/dist-packages (from tensorboard~=2.6->tensorflow==2.7.1) (0.4.6)\n",
            "Requirement already satisfied: pycparser in /usr/local/lib/python3.8/dist-packages (from cffi>=1.0->soundfile>=0.10.2->librosa) (2.21)\n",
            "Requirement already satisfied: pyasn1-modules>=0.2.1 in /usr/local/lib/python3.8/dist-packages (from google-auth<3,>=1.6.3->tensorboard~=2.6->tensorflow==2.7.1) (0.2.8)\n",
            "Requirement already satisfied: cachetools<6.0,>=2.0.0 in /usr/local/lib/python3.8/dist-packages (from google-auth<3,>=1.6.3->tensorboard~=2.6->tensorflow==2.7.1) (5.3.0)\n",
            "Requirement already satisfied: rsa<5,>=3.1.4 in /usr/local/lib/python3.8/dist-packages (from google-auth<3,>=1.6.3->tensorboard~=2.6->tensorflow==2.7.1) (4.9)\n",
            "Requirement already satisfied: requests-oauthlib>=0.7.0 in /usr/local/lib/python3.8/dist-packages (from google-auth-oauthlib<0.5,>=0.4.1->tensorboard~=2.6->tensorflow==2.7.1) (1.3.1)\n",
            "Requirement already satisfied: zipp>=0.5 in /usr/local/lib/python3.8/dist-packages (from importlib-metadata->numba>=0.43.0->librosa) (3.13.0)\n",
            "Requirement already satisfied: chardet<5,>=3.0.2 in /usr/local/lib/python3.8/dist-packages (from requests>=2.19.0->pooch>=1.0->librosa) (4.0.0)\n",
            "Requirement already satisfied: idna<3,>=2.5 in /usr/local/lib/python3.8/dist-packages (from requests>=2.19.0->pooch>=1.0->librosa) (2.10)\n",
            "Requirement already satisfied: certifi>=2017.4.17 in /usr/local/lib/python3.8/dist-packages (from requests>=2.19.0->pooch>=1.0->librosa) (2022.12.7)\n",
            "Requirement already satisfied: urllib3<1.27,>=1.21.1 in /usr/local/lib/python3.8/dist-packages (from requests>=2.19.0->pooch>=1.0->librosa) (1.24.3)\n",
            "Requirement already satisfied: pyasn1<0.5.0,>=0.4.6 in /usr/local/lib/python3.8/dist-packages (from pyasn1-modules>=0.2.1->google-auth<3,>=1.6.3->tensorboard~=2.6->tensorflow==2.7.1) (0.4.8)\n",
            "Requirement already satisfied: oauthlib>=3.0.0 in /usr/local/lib/python3.8/dist-packages (from requests-oauthlib>=0.7.0->google-auth-oauthlib<0.5,>=0.4.1->tensorboard~=2.6->tensorflow==2.7.1) (3.2.2)\n",
            "Installing collected packages: tensorflow-estimator, keras, flatbuffers, tensorflow-model-optimization, tensorflow-io-gcs-filesystem, keras-preprocessing, tensorflow-io, tensorflow\n",
            "  Attempting uninstall: tensorflow-estimator\n",
            "    Found existing installation: tensorflow-estimator 2.11.0\n",
            "    Uninstalling tensorflow-estimator-2.11.0:\n",
            "      Successfully uninstalled tensorflow-estimator-2.11.0\n",
            "  Attempting uninstall: keras\n",
            "    Found existing installation: keras 2.11.0\n",
            "    Uninstalling keras-2.11.0:\n",
            "      Successfully uninstalled keras-2.11.0\n",
            "  Attempting uninstall: flatbuffers\n",
            "    Found existing installation: flatbuffers 23.1.21\n",
            "    Uninstalling flatbuffers-23.1.21:\n",
            "      Successfully uninstalled flatbuffers-23.1.21\n",
            "  Attempting uninstall: tensorflow-io-gcs-filesystem\n",
            "    Found existing installation: tensorflow-io-gcs-filesystem 0.30.0\n",
            "    Uninstalling tensorflow-io-gcs-filesystem-0.30.0:\n",
            "      Successfully uninstalled tensorflow-io-gcs-filesystem-0.30.0\n",
            "  Attempting uninstall: tensorflow\n",
            "    Found existing installation: tensorflow 2.11.0\n",
            "    Uninstalling tensorflow-2.11.0:\n",
            "      Successfully uninstalled tensorflow-2.11.0\n",
            "Successfully installed flatbuffers-2.0.7 keras-2.7.0 keras-preprocessing-1.1.2 tensorflow-2.7.1 tensorflow-estimator-2.7.0 tensorflow-io-0.23.1 tensorflow-io-gcs-filesystem-0.23.1 tensorflow-model-optimization-0.7.3\n"
          ]
        }
      ]
    },
    {
      "cell_type": "code",
      "source": [
        "import tensorflow as tf\n",
        "\n",
        "tf.keras.utils.get_file('cmake-3.21.0-linux-x86_64.tar.gz',\n",
        "                        'https://github.com/Kitware/CMake/releases/download/v3.21.0/cmake-3.21.0-linux-x86_64.tar.gz',\n",
        "                        cache_dir='./',\n",
        "                        cache_subdir='tools',\n",
        "                        extract=True)\n",
        "\n",
        "tf.keras.utils.get_file('gcc-arm-none-eabi-10-2020-q4-major-x86_64-linux.tar.bz2',\n",
        "                        'https://developer.arm.com/-/media/Files/downloads/gnu-rm/10-2020q4/gcc-arm-none-eabi-10-2020-q4-major-x86_64-linux.tar.bz2',\n",
        "                        cache_dir='./',\n",
        "                        cache_subdir='tools',\n",
        "                        extract=True)"
      ],
      "metadata": {
        "colab": {
          "base_uri": "https://localhost:8080/",
          "height": 147
        },
        "id": "Ts4ucrryGwRW",
        "outputId": "c2d5e8c5-69dc-4d32-85e5-1a5677a58397"
      },
      "execution_count": null,
      "outputs": [
        {
          "output_type": "stream",
          "name": "stdout",
          "text": [
            "Downloading data from https://github.com/Kitware/CMake/releases/download/v3.21.0/cmake-3.21.0-linux-x86_64.tar.gz\n",
            "44662784/44660598 [==============================] - 1s 0us/step\n",
            "44670976/44660598 [==============================] - 1s 0us/step\n",
            "Downloading data from https://developer.arm.com/-/media/Files/downloads/gnu-rm/10-2020q4/gcc-arm-none-eabi-10-2020-q4-major-x86_64-linux.tar.bz2\n",
            "156884992/156882554 [==============================] - 51s 0us/step\n",
            "156893184/156882554 [==============================] - 51s 0us/step\n"
          ]
        },
        {
          "output_type": "execute_result",
          "data": {
            "text/plain": [
              "'./tools/gcc-arm-none-eabi-10-2020-q4-major-x86_64-linux.tar.bz2'"
            ],
            "application/vnd.google.colaboratory.intrinsic+json": {
              "type": "string"
            }
          },
          "metadata": {},
          "execution_count": 2
        }
      ]
    },
    {
      "cell_type": "code",
      "source": [
        "import os\n",
        "\n",
        "os.environ['PATH'] = f\"{os.getcwd()}/tools/cmake-3.21.0-linux-x86_64/bin:{os.environ['PATH']}\"\n",
        "os.environ['PATH'] = f\"{os.getcwd()}/tools/gcc-arm-none-eabi-10-2020-q4-major/bin:{os.environ['PATH']}\""
      ],
      "metadata": {
        "id": "WTwzxxC1EeOE"
      },
      "execution_count": null,
      "outputs": []
    },
    {
      "cell_type": "code",
      "source": [
        "%%shell\n",
        "git clone --branch 1.2.0 https://github.com/raspberrypi/pico-sdk.git\n",
        "cd pico-sdk\n",
        "git submodule init\n",
        "git submodule update"
      ],
      "metadata": {
        "colab": {
          "base_uri": "https://localhost:8080/"
        },
        "id": "1_7IIeAFELxe",
        "outputId": "07ca6a15-68b7-4f8f-926b-a963b5c02ac2"
      },
      "execution_count": null,
      "outputs": [
        {
          "output_type": "stream",
          "name": "stdout",
          "text": [
            "Cloning into 'pico-sdk'...\n",
            "remote: Enumerating objects: 6896, done.\u001b[K\n",
            "remote: Counting objects: 100% (915/915), done.\u001b[K\n",
            "remote: Compressing objects: 100% (457/457), done.\u001b[K\n",
            "remote: Total 6896 (delta 411), reused 824 (delta 363), pack-reused 5981\u001b[K\n",
            "Receiving objects: 100% (6896/6896), 2.73 MiB | 9.76 MiB/s, done.\n",
            "Resolving deltas: 100% (3501/3501), done.\n",
            "Note: switching to 'bfcbefafc5d2a210551a4d9d80b4303d4ae0adf7'.\n",
            "\n",
            "You are in 'detached HEAD' state. You can look around, make experimental\n",
            "changes and commit them, and you can discard any commits you make in this\n",
            "state without impacting any branches by switching back to a branch.\n",
            "\n",
            "If you want to create a new branch to retain commits you create, you may\n",
            "do so (now or later) by using -c with the switch command. Example:\n",
            "\n",
            "  git switch -c <new-branch-name>\n",
            "\n",
            "Or undo this operation with:\n",
            "\n",
            "  git switch -\n",
            "\n",
            "Turn off this advice by setting config variable advice.detachedHead to false\n",
            "\n",
            "Submodule 'tinyusb' (https://github.com/hathach/tinyusb.git) registered for path 'lib/tinyusb'\n",
            "Cloning into '/content/pico-sdk/lib/tinyusb'...\n",
            "Submodule path 'lib/tinyusb': checked out 'd49938d0f5052bce70e55c652b657c0a6a7e84fe'\n"
          ]
        },
        {
          "output_type": "execute_result",
          "data": {
            "text/plain": []
          },
          "metadata": {},
          "execution_count": 4
        }
      ]
    },
    {
      "cell_type": "code",
      "source": [
        "os.environ['PICO_SDK_PATH'] = f\"{os.getcwd()}/pico-sdk\""
      ],
      "metadata": {
        "id": "Ah7_aUrsEPeU"
      },
      "execution_count": null,
      "outputs": []
    },
    {
      "cell_type": "code",
      "source": [
        "os.environ['PICO_BOARD'] = 'pico'\n",
        "\n",
        "print(f\"PICO_BOARD env. var. set to '{os.environ['PICO_BOARD']}'\")"
      ],
      "metadata": {
        "colab": {
          "base_uri": "https://localhost:8080/"
        },
        "id": "03kkWl84EyjG",
        "outputId": "23845ae9-ad16-4362-fc4f-ddeaa2017bda"
      },
      "execution_count": null,
      "outputs": [
        {
          "output_type": "stream",
          "name": "stdout",
          "text": [
            "PICO_BOARD env. var. set to 'pico'\n"
          ]
        }
      ]
    },
    {
      "cell_type": "code",
      "execution_count": null,
      "metadata": {
        "colab": {
          "base_uri": "https://localhost:8080/"
        },
        "id": "3qXemqvGCzSN",
        "outputId": "3c73f0df-5ca2-4476-acd1-d125ebda6cb4"
      },
      "outputs": [
        {
          "output_type": "stream",
          "name": "stdout",
          "text": [
            "Cloning into 'microphone-library-for-pico'...\n",
            "remote: Enumerating objects: 211, done.\u001b[K\n",
            "remote: Counting objects: 100% (211/211), done.\u001b[K\n",
            "remote: Compressing objects: 100% (102/102), done.\u001b[K\n",
            "remote: Total 211 (delta 108), reused 195 (delta 96), pack-reused 0\u001b[K\n",
            "Receiving objects: 100% (211/211), 51.77 KiB | 2.07 MiB/s, done.\n",
            "Resolving deltas: 100% (108/108), done.\n"
          ]
        },
        {
          "output_type": "execute_result",
          "data": {
            "text/plain": []
          },
          "metadata": {},
          "execution_count": 7
        }
      ],
      "source": [
        "%%shell\n",
        "git clone https://github.com/ArmDeveloperEcosystem/microphone-library-for-pico.git"
      ]
    },
    {
      "cell_type": "code",
      "source": [
        "%%shell\n",
        "cd microphone-library-for-pico\n",
        "mkdir -p build\n",
        "cd build\n",
        "cmake .. -DPICO_BOARD=${PICO_BOARD}"
      ],
      "metadata": {
        "colab": {
          "base_uri": "https://localhost:8080/"
        },
        "id": "CLXRjQhWEB4c",
        "outputId": "df53bb00-58ee-4712-e47f-637bc558812a"
      },
      "execution_count": null,
      "outputs": [
        {
          "output_type": "stream",
          "name": "stdout",
          "text": [
            "\u001b[0mUsing PICO_SDK_PATH from environment ('/content/pico-sdk')\u001b[0m\n",
            "\u001b[0mPICO_SDK_PATH is /content/pico-sdk\u001b[0m\n",
            "\u001b[0mDefaulting PICO_PLATFORM to rp2040 since not specified.\u001b[0m\n",
            "\u001b[0mDefaulting PICO platform compiler to pico_arm_gcc since not specified.\u001b[0m\n",
            "-- Defaulting build type to 'Release' since not specified.\n",
            "\u001b[0mPICO compiler is pico_arm_gcc\u001b[0m\n",
            "-- The C compiler identification is GNU 10.2.1\n",
            "-- The CXX compiler identification is GNU 10.2.1\n",
            "-- The ASM compiler identification is GNU\n",
            "-- Found assembler: /content/tools/gcc-arm-none-eabi-10-2020-q4-major/bin/arm-none-eabi-gcc\n",
            "\u001b[0mUsing PICO_BOARD from environment ('pico')\u001b[0m\n",
            "\u001b[0mUsing board configuration from /content/pico-sdk/src/boards/include/boards/pico.h\u001b[0m\n",
            "-- Found Python3: /usr/bin/python3.8 (found version \"3.8.10\") found components: Interpreter \n",
            "\u001b[0mTinyUSB available at /content/pico-sdk/lib/tinyusb/src/portable/raspberrypi/rp2040; adding USB support.\u001b[0m\n",
            "-- Configuring done\n",
            "-- Generating done\n",
            "-- Build files have been written to: /content/microphone-library-for-pico/build\n"
          ]
        },
        {
          "output_type": "execute_result",
          "data": {
            "text/plain": []
          },
          "metadata": {},
          "execution_count": 8
        }
      ]
    },
    {
      "cell_type": "code",
      "source": [
        "%%shell\n",
        "cd microphone-library-for-pico/build\n",
        "\n",
        "make -j usb_microphone\n",
        "#make -j hello_analog_microphone"
      ],
      "metadata": {
        "colab": {
          "base_uri": "https://localhost:8080/"
        },
        "id": "HFDAztGVDAK8",
        "outputId": "6bc9ef16-14af-4cd2-f1f4-e3eb4bd01d88"
      },
      "execution_count": 40,
      "outputs": [
        {
          "output_type": "stream",
          "name": "stdout",
          "text": [
            "[  2%] \u001b[34m\u001b[1mPerforming build step for 'PioasmBuild'\u001b[0m\n",
            "[  2%] \u001b[34m\u001b[1mPerforming build step for 'ELF2UF2Build'\u001b[0m\n",
            "[  5%] Built target bs2_default\n",
            "[  5%] Built target bs2_default_padded_checksummed_asm\n",
            "[100%] Built target elf2uf2\n",
            "[  7%] \u001b[34m\u001b[1mNo install step for 'ELF2UF2Build'\u001b[0m\n",
            "[100%] Built target pioasm\n",
            "[  7%] \u001b[34m\u001b[1mCompleted 'ELF2UF2Build'\u001b[0m\n",
            "[  7%] \u001b[34m\u001b[1mNo install step for 'PioasmBuild'\u001b[0m\n",
            "[  7%] \u001b[34m\u001b[1mCompleted 'PioasmBuild'\u001b[0m\n",
            "[ 13%] Built target ELF2UF2Build\n",
            "[ 18%] Built target PioasmBuild\n",
            "[ 18%] Built target pico_pdm_microphone_pdm_microphone_pio_h\n",
            "\u001b[35m\u001b[1mConsolidate compiler generated dependencies of target usb_microphone\u001b[0m\n",
            "[100%] Built target usb_microphone\n"
          ]
        },
        {
          "output_type": "execute_result",
          "data": {
            "text/plain": []
          },
          "metadata": {},
          "execution_count": 40
        }
      ]
    },
    {
      "cell_type": "code",
      "source": [
        "%%shell\n",
        "git clone --recurse-submodules https://github.com/ArmDeveloperEcosystem/ml-audio-classifier-example-for-pico.git"
      ],
      "metadata": {
        "colab": {
          "base_uri": "https://localhost:8080/"
        },
        "id": "s-kUvua5IByc",
        "outputId": "fd8f52d4-b9d2-4fc3-dab3-bcfa3c62afea"
      },
      "execution_count": 16,
      "outputs": [
        {
          "output_type": "stream",
          "name": "stdout",
          "text": [
            "Cloning into 'ml-audio-classifier-example-for-pico'...\n",
            "remote: Enumerating objects: 128, done.\u001b[K\n",
            "remote: Total 128 (delta 0), reused 0 (delta 0), pack-reused 128\u001b[K\n",
            "Receiving objects: 100% (128/128), 43.04 MiB | 24.84 MiB/s, done.\n",
            "Resolving deltas: 100% (40/40), done.\n",
            "Submodule 'inference-app/lib/CMSIS_5' (https://github.com/ARM-software/CMSIS_5.git) registered for path 'inference-app/lib/CMSIS_5'\n",
            "Submodule 'inference-app/lib/microphone-library-for-pico' (https://github.com/ArmDeveloperEcosystem/microphone-library-for-pico.git) registered for path 'inference-app/lib/microphone-library-for-pico'\n",
            "Submodule 'inference-app/lib/pico-tflmicro' (https://github.com/raspberrypi/pico-tflmicro.git) registered for path 'inference-app/lib/pico-tflmicro'\n",
            "Cloning into '/content/ml-audio-classifier-example-for-pico/inference-app/lib/CMSIS_5'...\n",
            "remote: Enumerating objects: 3242, done.        \n",
            "remote: Counting objects: 100% (3242/3242), done.        \n",
            "remote: Compressing objects: 100% (1346/1346), done.        \n",
            "remote: Total 3242 (delta 2005), reused 2593 (delta 1770), pack-reused 0        \n",
            "Receiving objects: 100% (3242/3242), 17.90 MiB | 24.73 MiB/s, done.\n",
            "Resolving deltas: 100% (2005/2005), done.\n",
            "Cloning into '/content/ml-audio-classifier-example-for-pico/inference-app/lib/microphone-library-for-pico'...\n",
            "remote: Enumerating objects: 211, done.        \n",
            "remote: Counting objects: 100% (211/211), done.        \n",
            "remote: Compressing objects: 100% (102/102), done.        \n",
            "remote: Total 211 (delta 108), reused 195 (delta 96), pack-reused 0        \n",
            "Receiving objects: 100% (211/211), 51.77 KiB | 2.07 MiB/s, done.\n",
            "Resolving deltas: 100% (108/108), done.\n",
            "Cloning into '/content/ml-audio-classifier-example-for-pico/inference-app/lib/pico-tflmicro'...\n",
            "remote: Enumerating objects: 1178, done.        \n",
            "remote: Counting objects: 100% (92/92), done.        \n",
            "remote: Compressing objects: 100% (37/37), done.        \n",
            "remote: Total 1178 (delta 71), reused 55 (delta 55), pack-reused 1086        \n",
            "Receiving objects: 100% (1178/1178), 1.83 MiB | 6.13 MiB/s, done.\n",
            "Resolving deltas: 100% (547/547), done.\n",
            "remote: Enumerating objects: 72776, done.\u001b[K\n",
            "remote: Counting objects: 100% (72766/72766), done.\u001b[K\n",
            "remote: Compressing objects: 100% (17376/17376), done.\u001b[K\n",
            "remote: Total 71955 (delta 53353), reused 71448 (delta 52858), pack-reused 0\u001b[K\n",
            "Receiving objects: 100% (71955/71955), 222.68 MiB | 28.99 MiB/s, done.\n",
            "Resolving deltas: 100% (53353/53353), completed with 370 local objects.\n",
            "From https://github.com/ARM-software/CMSIS_5\n",
            " * branch            13b9f72f212688d2306d0d085d87cbb4bf9e5d3f -> FETCH_HEAD\n",
            "Submodule path 'inference-app/lib/CMSIS_5': checked out '13b9f72f212688d2306d0d085d87cbb4bf9e5d3f'\n",
            "Submodule path 'inference-app/lib/microphone-library-for-pico': checked out '7d398aa671a873230871e41d0fd79c8505888d7f'\n",
            "Submodule path 'inference-app/lib/pico-tflmicro': checked out '6ff6387ed1fb3b721b0996583c4af8872980833b'\n"
          ]
        },
        {
          "output_type": "execute_result",
          "data": {
            "text/plain": []
          },
          "metadata": {},
          "execution_count": 16
        }
      ]
    },
    {
      "cell_type": "code",
      "source": [
        "%%shell\n",
        "ln -s ml-audio-classifier-example-for-pico/colab_utils colab_utils\n",
        "ln -s ml-audio-classifier-example-for-pico/inference-app inference-app"
      ],
      "metadata": {
        "colab": {
          "base_uri": "https://localhost:8080/"
        },
        "id": "pYONBWNHHpIv",
        "outputId": "530e3653-91f8-4a6b-978b-658070cbdb0f"
      },
      "execution_count": 17,
      "outputs": [
        {
          "output_type": "execute_result",
          "data": {
            "text/plain": []
          },
          "metadata": {},
          "execution_count": 17
        }
      ]
    },
    {
      "cell_type": "code",
      "source": [
        "from colab_utils.pico import flash_pico\n",
        "\n",
        "flash_pico('microphone-library-for-pico/build/examples/usb_microphone/usb_microphone.bin')\n",
        "#flash_pico('microphone-library-for-pico/build/examples/hello_analog_microphone/hello_analog_microphone.bin')"
      ],
      "metadata": {
        "colab": {
          "base_uri": "https://localhost:8080/",
          "height": 238
        },
        "id": "r3kWH0lbH1xo",
        "outputId": "ba99374a-6bc7-4f70-ca55-106f52182c06"
      },
      "execution_count": 41,
      "outputs": [
        {
          "output_type": "display_data",
          "data": {
            "text/plain": [
              "<IPython.core.display.Javascript object>"
            ],
            "application/javascript": [
              "\n",
              "    const picotoolJsScript = document.createElement(\"script\");\n",
              "\n",
              "    picotoolJsScript.src = \"https://armdeveloperecosystem.github.io/picotool.js/src/picotool.js\";\n",
              "    picotoolJsScript.type = \"text/javascript\";\n",
              "\n",
              "    document.body.append(picotoolJsScript);\n",
              "\n",
              "    async function readBinary() {\n",
              "      const result = await google.colab.kernel.invokeFunction('notebook.read_binary_base64', ['microphone-library-for-pico/build/examples/usb_microphone/usb_microphone.bin']);\n",
              "      let str = result.data['text/plain'];\n",
              "\n",
              "      str = str.substring(1, str.length - 1);\n",
              "\n",
              "      return Uint8Array.from(atob(str), c => c.charCodeAt(0));\n",
              "    }\n",
              "\n",
              "    async function flashPico() {\n",
              "      statusDiv.innerHTML = '';\n",
              "\n",
              "      try {\n",
              "        statusDiv.innerHTML += \"requesting device ... <br/>\";\n",
              "        const usbDevice = await PicoTool.requestDevice();\n",
              "\n",
              "        const fileData = (await readBinary()).buffer;\n",
              "        const writeData = new ArrayBuffer(PicoTool.FLASH_SECTOR_ERASE_SIZE);\n",
              "    \n",
              "        const srcDataView = new DataView(fileData);\n",
              "        const dstDataView = new DataView(writeData);\n",
              "\n",
              "        const picoTool = new PicoTool(usbDevice);\n",
              "    \n",
              "        statusDiv.innerHTML += \"opening device ... <br/>\";\n",
              "        await picoTool.open();\n",
              "      \n",
              "        // statusDiv.innerHTML += \"reset ... <br/>\";\n",
              "        await picoTool.reset();\n",
              "      \n",
              "        // statusDiv.innerHTML += \"exlusive access device ... <br/>\";\n",
              "        await picoTool.exlusiveAccess(1);\n",
              "      \n",
              "        // statusDiv.innerHTML += \"exit xip ... <br/>\";\n",
              "        await picoTool.exitXip();\n",
              "\n",
              "        for (let i = 0; i < fileData.byteLength; i += PicoTool.FLASH_SECTOR_ERASE_SIZE) {\n",
              "          let j = 0;\n",
              "          for (j = 0; j < PicoTool.FLASH_SECTOR_ERASE_SIZE && (i + j) < fileData.byteLength; j++) {\n",
              "            dstDataView.setUint8(j, srcDataView.getUint8(i + j));\n",
              "          }\n",
              "\n",
              "          statusDiv.innerHTML += \"erasing ... \";\n",
              "          await picoTool.flashErase(PicoTool.FLASH_START + i, PicoTool.FLASH_SECTOR_ERASE_SIZE);\n",
              "\n",
              "          statusDiv.innerHTML += \"writing ... \";\n",
              "          await picoTool.write(PicoTool.FLASH_START + i, writeData);\n",
              "\n",
              "          statusDiv.innerHTML += \" \" + ((i + j) * 100 / fileData.byteLength).toFixed(2) + \"% <br/>\";\n",
              "        }\n",
              "\n",
              "        statusDiv.innerHTML += \"rebooting device ... <br/>\";\n",
              "        await picoTool.reboot(0, PicoTool.SRAM_END, 512);\n",
              "    \n",
              "        statusDiv.innerHTML += \"closing device ... <br/>\";\n",
              "        await picoTool.close();\n",
              "      } catch (e) {\n",
              "        statusDiv.innerHTML = 'Error: ' + e.message;\n",
              "      }\n",
              "    }\n",
              "\n",
              "    let statusDiv = undefined; \n",
              "\n",
              "    if ('usb' in navigator) {\n",
              "      const flashButton = document.createElement(\"button\");\n",
              "\n",
              "      flashButton.innerHTML = \"Flash\";\n",
              "      flashButton.onclick = flashPico;\n",
              "\n",
              "      document.querySelector(\"#output-area\").appendChild(flashButton);\n",
              "\n",
              "      statusDiv = document.createElement(\"div\");\n",
              "      statusDiv.style = \"margin: 5px\";\n",
              "\n",
              "      document.querySelector(\"#output-area\").appendChild(statusDiv);\n",
              "    } else {\n",
              "      document.querySelector(\"#output-area\").appendChild(document.createTextNode(\n",
              "        \"Oh no! Your browser does not support WebUSB!\"\n",
              "      ));\n",
              "    }\n",
              "  "
            ]
          },
          "metadata": {}
        }
      ]
    },
    {
      "cell_type": "code",
      "source": [
        "from colab_utils.audio import record_wav_file\n",
        "\n",
        "os.makedirs('datasets/custom/fire_alarm', exist_ok=True)\n",
        "\n",
        "record_wav_file('datasets/custom/fire_alarm')"
      ],
      "metadata": {
        "id": "wY4FO9jtIcM6",
        "outputId": "8314ff7e-d3bb-42d3-ec6f-dae58de9ac59",
        "colab": {
          "base_uri": "https://localhost:8080/",
          "height": 55
        }
      },
      "execution_count": 42,
      "outputs": [
        {
          "output_type": "display_data",
          "data": {
            "text/plain": [
              "<IPython.core.display.Javascript object>"
            ],
            "application/javascript": [
              "\n",
              "    const recorderJsScript = document.createElement(\"script\");\n",
              "    const audioInputSelect = document.createElement(\"select\");\n",
              "    const recordButton = document.createElement(\"button\");\n",
              "\n",
              "    recorderJsScript.src = \"https://sandeepmistry.github.io/Recorderjs/dist/recorder.js\";\n",
              "    recorderJsScript.type = \"text/javascript\";\n",
              "\n",
              "    recordButton.innerHTML = \"⏺ Start Recording\";\n",
              "\n",
              "    document.body.append(recorderJsScript);\n",
              "    document.querySelector(\"#output-area\").appendChild(audioInputSelect);\n",
              "    document.querySelector(\"#output-area\").appendChild(recordButton);\n",
              "\n",
              "    async function updateAudioInputSelect() {\n",
              "      while (audioInputSelect.firstChild) {\n",
              "        audioInputSelect.removeChild(audioInputSelect.firstChild);\n",
              "      }\n",
              "\n",
              "      const deviceInfos = await navigator.mediaDevices.enumerateDevices();\n",
              "\n",
              "      for (let i = 0; i !== deviceInfos.length; ++i) {\n",
              "        const deviceInfo = deviceInfos[i];\n",
              "        const option = document.createElement(\"option\");\n",
              "        \n",
              "        option.value = deviceInfo.deviceId;\n",
              "        \n",
              "        if (deviceInfo.kind === \"audioinput\") {\n",
              "          option.text = deviceInfo.label || \"Microphone \" + (audioInputSelect.length + 1);\n",
              "          option.selected = (option.text.indexOf(\"MicNode\") !== -1);\n",
              "          audioInputSelect.appendChild(option);\n",
              "        }\n",
              "      }\n",
              "    }\n",
              "\n",
              "    const blob2text = (blob) => new Promise(resolve => {\n",
              "      const reader = new FileReader();\n",
              "      reader.onloadend = e => resolve(e.srcElement.result);\n",
              "      reader.readAsDataURL(blob)\n",
              "    });\n",
              "\n",
              "    let recorder = undefined;\n",
              "    let stream = undefined;\n",
              "\n",
              "    // https://www.html5rocks.com/en/tutorials/getusermedia/intro/\n",
              "    recordButton.onclick = async () => {\n",
              "      if (recordButton.innerHTML != \"⏺ Start Recording\") {\n",
              "        recordButton.disabled = true;\n",
              "        recorder.stop();\n",
              "\n",
              "        recorder.exportWAV(async (blob) => {\n",
              "          const text = await blob2text(blob);\n",
              "\n",
              "          google.colab.kernel.invokeFunction('notebook.save_wav_file', ['datasets/custom/fire_alarm', text], {});\n",
              "          \n",
              "          recordButton.innerHTML = \"⏺ Start Recording\";\n",
              "          recordButton.disabled = false;\n",
              "\n",
              "          stream.getTracks().forEach(function(track) {\n",
              "          if (track.readyState === 'live') {\n",
              "              track.stop();\n",
              "            }\n",
              "          });\n",
              "        });\n",
              "\n",
              "        return;\n",
              "      }\n",
              "\n",
              "      const constraints = {\n",
              "        audio: {\n",
              "          deviceId: {\n",
              "          },\n",
              "          sampleRate: 16000\n",
              "        },\n",
              "        video: false\n",
              "      };\n",
              "\n",
              "      stream = await navigator.mediaDevices.getUserMedia(constraints);\n",
              "\n",
              "      if (audioInputSelect.value === \"\") {\n",
              "        await updateAudioInputSelect();\n",
              "\n",
              "        stream.getTracks().forEach(function(track) {\n",
              "          if (track.readyState === 'live') {\n",
              "            track.stop();\n",
              "          }\n",
              "        });\n",
              "\n",
              "        constraints.audio.deviceId.exact = audioInputSelect.value;\n",
              "        stream = await navigator.mediaDevices.getUserMedia(constraints);\n",
              "      }\n",
              "\n",
              "      const audioContext = new AudioContext({\n",
              "        sampleRate: 16000\n",
              "      });\n",
              "      \n",
              "      const input = audioContext.createMediaStreamSource(stream);\n",
              "\n",
              "      recorder = new Recorder(input, {\n",
              "         numChannels: 1\n",
              "      });\n",
              "\n",
              "      recordButton.innerHTML = \"⏹ Stop Recording\";\n",
              "\n",
              "      recorder.record();\n",
              "    };\n",
              "\n",
              "    updateAudioInputSelect();\n",
              "  "
            ]
          },
          "metadata": {}
        },
        {
          "output_type": "stream",
          "name": "stdout",
          "text": [
            "Saving file: datasets/custom/fire_alarm/19-02-2023-05-26-52.wav\n"
          ]
        }
      ]
    },
    {
      "cell_type": "code",
      "source": [
        "from colab_utils.serial_monitor import run_serial_monitor\n",
        "\n",
        "run_serial_monitor()"
      ],
      "metadata": {
        "colab": {
          "base_uri": "https://localhost:8080/",
          "height": 474
        },
        "id": "MAy7CNdUs_lL",
        "outputId": "ef402add-a1d3-445a-a312-610b4bb087f8"
      },
      "execution_count": 22,
      "outputs": [
        {
          "output_type": "display_data",
          "data": {
            "text/plain": [
              "<IPython.core.display.Javascript object>"
            ],
            "application/javascript": [
              "\n",
              "    if ('serial' in navigator) {\n",
              "      const scriptElement = document.createElement(\"script\");\n",
              "      scriptElement.src = \"https://cdnjs.cloudflare.com/ajax/libs/xterm/3.14.5/xterm.min.js\";\n",
              "      document.body.appendChild(scriptElement);\n",
              "\n",
              "      const linkElement = document.createElement(\"link\");\n",
              "      linkElement.rel = \"stylesheet\"\n",
              "      linkElement.href = \"https://cdnjs.cloudflare.com/ajax/libs/xterm/3.14.5/xterm.min.css\";\n",
              "      document.body.appendChild(linkElement);\n",
              "\n",
              "      const connectDisconnectButton = document.createElement(\"button\");\n",
              "\n",
              "      connectDisconnectButton.innerHTML = \"Connect Port\";\n",
              "\n",
              "      document.querySelector(\"#output-area\").appendChild(connectDisconnectButton);\n",
              "\n",
              "      terminalDiv = document.createElement(\"div\");\n",
              "      terminalDiv.style = \"margin: 5px\";\n",
              "\n",
              "      document.querySelector(\"#output-area\").appendChild(terminalDiv);\n",
              "\n",
              "      let port = undefined;\n",
              "      let reader = undefined;\n",
              "      let keepReading = true;\n",
              "      let term = undefined;\n",
              "\n",
              "      connectDisconnectButton.onclick = async () => {\n",
              "        if (port !== undefined) {\n",
              "          if (reader !== undefined) {\n",
              "            keepReading = false;\n",
              "            try {\n",
              "              await reader.cancel();\n",
              "            } catch (e) {}\n",
              "          }\n",
              "          port = undefined;\n",
              "          reader = undefined;\n",
              "\n",
              "          connectDisconnectButton.innerHTML = \"Connect Port\";\n",
              "\n",
              "          return;\n",
              "        }\n",
              "\n",
              "        port = await navigator.serial.requestPort();\n",
              "        keepReading = true;\n",
              "\n",
              "        connectDisconnectButton.innerHTML = \"Disconnect Port\";\n",
              "        \n",
              "        await port.open({ baudRate: 115200 });\n",
              "\n",
              "        if (term === undefined) {\n",
              "          term = new Terminal();\n",
              "          term.open(terminalDiv);\n",
              "        }\n",
              "        term.clear();\n",
              "    \n",
              "        const decoder = new TextDecoder();\n",
              "\n",
              "        while (port && keepReading) {\n",
              "          try {\n",
              "            reader = port.readable.getReader();\n",
              "          \n",
              "            while (true) {\n",
              "              const { value, done } = await reader.read();\n",
              "              if (done) {\n",
              "                keepReading = false;\n",
              "                break;\n",
              "              }\n",
              "\n",
              "              term.write(decoder.decode(value, { stream: true }));\n",
              "            }\n",
              "          } catch (error) {\n",
              "            keepReading = false;\n",
              "          } finally {\n",
              "            await reader.releaseLock();\n",
              "          }\n",
              "        }\n",
              "        \n",
              "        await port.close();\n",
              "\n",
              "        port = undefined;\n",
              "        reader = undefined;\n",
              "\n",
              "        connectDisconnectButton.innerHTML = \"Connect Port\";\n",
              "      };\n",
              "    } else {\n",
              "      document.querySelector(\"#output-area\").appendChild(document.createTextNode(\n",
              "        \"Oh no! Your browser does not support Web Serial!\"\n",
              "      ));\n",
              "    }\n",
              "  "
            ]
          },
          "metadata": {}
        }
      ]
    }
  ]
}